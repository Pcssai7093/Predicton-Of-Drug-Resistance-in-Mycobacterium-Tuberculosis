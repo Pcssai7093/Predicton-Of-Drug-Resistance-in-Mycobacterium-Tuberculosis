{
 "cells": [
  {
   "cell_type": "code",
   "execution_count": 31,
   "metadata": {},
   "outputs": [],
   "source": [
    "import pandas as pd\n",
    "from sklearn.model_selection import train_test_split,GridSearchCV\n",
    "from sklearn.metrics import accuracy_score,precision_score,recall_score,f1_score,roc_auc_score,classification_report,confusion_matrix\n",
    "from sklearn.decomposition import PCA\n",
    "import seaborn as sns\n",
    "import matplotlib.pyplot as plt\n",
    "from sklearn.ensemble import RandomForestClassifier\n",
    "from sklearn import svm\n",
    "from sklearn.linear_model import LogisticRegression\n",
    "from sklearn.naive_bayes import BernoulliNB"
   ]
  },
  {
   "cell_type": "code",
   "execution_count": 32,
   "metadata": {},
   "outputs": [],
   "source": [
    "x=pd.read_csv(\"X.csv\")\n",
    "y=pd.read_csv(\"Y.csv\")"
   ]
  },
  {
   "cell_type": "code",
   "execution_count": 33,
   "metadata": {},
   "outputs": [],
   "source": [
    "rifX=x\n",
    "rifY=y[\"RIF\"]"
   ]
  },
  {
   "cell_type": "code",
   "execution_count": 34,
   "metadata": {},
   "outputs": [
    {
     "data": {
      "text/plain": [
       "(3393, 222)"
      ]
     },
     "execution_count": 34,
     "metadata": {},
     "output_type": "execute_result"
    }
   ],
   "source": [
    "rifX.shape"
   ]
  },
  {
   "attachments": {},
   "cell_type": "markdown",
   "metadata": {},
   "source": [
    "Concatenating features with labels"
   ]
  },
  {
   "cell_type": "code",
   "execution_count": 35,
   "metadata": {},
   "outputs": [],
   "source": [
    "rifConcatenated=pd.concat([rifX,rifY],axis=1)"
   ]
  },
  {
   "cell_type": "code",
   "execution_count": 36,
   "metadata": {},
   "outputs": [
    {
     "data": {
      "text/plain": [
       "(3393, 223)"
      ]
     },
     "execution_count": 36,
     "metadata": {},
     "output_type": "execute_result"
    }
   ],
   "source": [
    "rifConcatenated.shape"
   ]
  },
  {
   "attachments": {},
   "cell_type": "markdown",
   "metadata": {},
   "source": [
    "Checking duplicate rows"
   ]
  },
  {
   "cell_type": "code",
   "execution_count": 38,
   "metadata": {},
   "outputs": [
    {
     "data": {
      "text/plain": [
       "False    2779\n",
       "True      614\n",
       "dtype: int64"
      ]
     },
     "execution_count": 38,
     "metadata": {},
     "output_type": "execute_result"
    }
   ],
   "source": [
    "rifConcatenated.duplicated().value_counts()"
   ]
  },
  {
   "attachments": {},
   "cell_type": "markdown",
   "metadata": {},
   "source": [
    "Dropping Duplicate rows"
   ]
  },
  {
   "cell_type": "code",
   "execution_count": 39,
   "metadata": {},
   "outputs": [
    {
     "data": {
      "text/plain": [
       "(2779, 223)"
      ]
     },
     "execution_count": 39,
     "metadata": {},
     "output_type": "execute_result"
    }
   ],
   "source": [
    "rifConcatenated=rifConcatenated.drop_duplicates()\n",
    "rifConcatenated.shape"
   ]
  },
  {
   "attachments": {},
   "cell_type": "markdown",
   "metadata": {},
   "source": [
    "Count of invalid labeled rows (label with -1 are invalid rows)"
   ]
  },
  {
   "cell_type": "code",
   "execution_count": 40,
   "metadata": {},
   "outputs": [
    {
     "data": {
      "text/plain": [
       "False    2725\n",
       "True       54\n",
       "Name: RIF, dtype: int64"
      ]
     },
     "execution_count": 40,
     "metadata": {},
     "output_type": "execute_result"
    }
   ],
   "source": [
    "(rifConcatenated[\"RIF\"]==-1).value_counts()"
   ]
  },
  {
   "attachments": {},
   "cell_type": "markdown",
   "metadata": {},
   "source": [
    "Rows with invalid labels"
   ]
  },
  {
   "cell_type": "code",
   "execution_count": 41,
   "metadata": {},
   "outputs": [],
   "source": [
    "invalidRows=rifConcatenated[rifConcatenated[\"RIF\"]==-1]"
   ]
  },
  {
   "cell_type": "code",
   "execution_count": 42,
   "metadata": {},
   "outputs": [
    {
     "data": {
      "text/plain": [
       "Int64Index([ 313,  320,  346,  360,  381,  395,  397,  398,  403,  808, 1373,\n",
       "            1586, 1588, 1706, 1715, 1717, 1800, 1857, 1902, 1945, 2190, 2355,\n",
       "            2383, 2429, 2630, 2899, 2932, 2935, 3078, 3099, 3100, 3103, 3106,\n",
       "            3109, 3112, 3118, 3125, 3128, 3131, 3135, 3139, 3155, 3189, 3214,\n",
       "            3221, 3229, 3235, 3240, 3241, 3242, 3246, 3258, 3259, 3261],\n",
       "           dtype='int64')"
      ]
     },
     "execution_count": 42,
     "metadata": {},
     "output_type": "execute_result"
    }
   ],
   "source": [
    "invalidRows.index"
   ]
  },
  {
   "attachments": {},
   "cell_type": "markdown",
   "metadata": {},
   "source": [
    "Dropping invalid labeled rows "
   ]
  },
  {
   "cell_type": "code",
   "execution_count": 43,
   "metadata": {},
   "outputs": [
    {
     "data": {
      "text/plain": [
       "(2725, 223)"
      ]
     },
     "execution_count": 43,
     "metadata": {},
     "output_type": "execute_result"
    }
   ],
   "source": [
    "rifFiltered=rifConcatenated.drop(invalidRows.index)\n",
    "rifFiltered.shape"
   ]
  },
  {
   "attachments": {},
   "cell_type": "markdown",
   "metadata": {},
   "source": [
    "Splitting the data into X and Y"
   ]
  },
  {
   "cell_type": "code",
   "execution_count": 44,
   "metadata": {},
   "outputs": [],
   "source": [
    "rifX=rifFiltered.iloc[:,0:222]\n",
    "rifY=rifFiltered.iloc[:,[222]]"
   ]
  },
  {
   "cell_type": "code",
   "execution_count": 56,
   "metadata": {},
   "outputs": [],
   "source": [
    "rifY=(rifY.values).reshape(-1,)"
   ]
  },
  {
   "cell_type": "code",
   "execution_count": 58,
   "metadata": {},
   "outputs": [
    {
     "data": {
      "text/plain": [
       "(2725,)"
      ]
     },
     "execution_count": 58,
     "metadata": {},
     "output_type": "execute_result"
    }
   ],
   "source": [
    "rifY.shape"
   ]
  },
  {
   "attachments": {},
   "cell_type": "markdown",
   "metadata": {},
   "source": [
    "finding imbalance"
   ]
  },
  {
   "cell_type": "code",
   "execution_count": 59,
   "metadata": {},
   "outputs": [
    {
     "name": "stdout",
     "output_type": "stream",
     "text": [
      "1    1456\n",
      "0    1269\n",
      "Name: RIF, dtype: int64\n"
     ]
    },
    {
     "data": {
      "image/png": "[encoded data removed]",
      "text/plain": [
       "<Figure size 432x288 with 1 Axes>"
      ]
     },
     "metadata": {
      "needs_background": "light"
     },
     "output_type": "display_data"
    }
   ],
   "source": [
    "counts=rifFiltered['RIF'].value_counts()\n",
    "print(counts)\n",
    "proportions = counts / counts.sum()\n",
    "proportions=proportions*100\n",
    "sns.barplot(x=[\"Resistant\",\"Suspectible\"],y=proportions.values)\n",
    "plt.show()"
   ]
  },
  {
   "cell_type": "code",
   "execution_count": 60,
   "metadata": {},
   "outputs": [],
   "source": [
    "rifX_train,rifX_test,rifY_train,rifY_test=train_test_split(rifX,rifY,test_size=0.2,random_state=21)"
   ]
  },
  {
   "attachments": {},
   "cell_type": "markdown",
   "metadata": {},
   "source": [
    "parameter tuning for random forest"
   ]
  },
  {
   "cell_type": "code",
   "execution_count": 61,
   "metadata": {},
   "outputs": [
    {
     "name": "stdout",
     "output_type": "stream",
     "text": [
      "{'max_depth': None, 'n_estimators': 50}\n"
     ]
    }
   ],
   "source": [
    "model1=RandomForestClassifier()\n",
    "param_grid = {\n",
    "    'n_estimators': [30,50, 100],\n",
    "    'max_depth': [None, 5, 10],\n",
    "}\n",
    "grid_search = GridSearchCV(model1, param_grid=param_grid, cv=5, n_jobs=-1,scoring='roc_auc')\n",
    "grid_search.fit(rifX, rifY)\n",
    "print(grid_search.best_params_)"
   ]
  },
  {
   "attachments": {},
   "cell_type": "markdown",
   "metadata": {},
   "source": [
    "parameter tuning for svm"
   ]
  },
  {
   "cell_type": "code",
   "execution_count": 62,
   "metadata": {},
   "outputs": [
    {
     "name": "stdout",
     "output_type": "stream",
     "text": [
      "{'C': 0.1, 'gamma': 0.1, 'kernel': 'linear'}\n"
     ]
    }
   ],
   "source": [
    "model2=svm.SVC()\n",
    "param_grid = {'C': [0.1, 1, 10], 'gamma': [0.1, 1, 10], 'kernel': ['linear', 'rbf']}\n",
    "grid_search = GridSearchCV(model2, param_grid, refit=True, verbose=0, cv=5,scoring='roc_auc')\n",
    "grid_search.fit(rifX, rifY)\n",
    "print(grid_search.best_params_)"
   ]
  },
  {
   "attachments": {},
   "cell_type": "markdown",
   "metadata": {},
   "source": [
    "parameter tuning for logistic regression"
   ]
  },
  {
   "cell_type": "code",
   "execution_count": 51,
   "metadata": {},
   "outputs": [],
   "source": [
    "# model3=LogisticRegression()\n",
    "# param_grid = {'C': [ 0.1, 1, 10, 100, 1000], 'penalty': ['l1', 'l2']}\n",
    "# grid_search = GridSearchCV(model3, param_grid=param_grid,cv=5,verbose=0)\n",
    "# grid_search.fit(rifX, rifY)\n",
    "# print(grid_search.best_params_)"
   ]
  },
  {
   "attachments": {},
   "cell_type": "markdown",
   "metadata": {},
   "source": [
    "# parameter tuning for BernoulliNB"
   ]
  },
  {
   "cell_type": "code",
   "execution_count": 63,
   "metadata": {},
   "outputs": [
    {
     "name": "stdout",
     "output_type": "stream",
     "text": [
      "Best hyperparameters: {'alpha': 10}\n"
     ]
    }
   ],
   "source": [
    "model4=BernoulliNB()\n",
    "param_grid = {'alpha': [0.1, 1, 10]}\n",
    "grid_search = GridSearchCV(model4, param_grid=param_grid, cv=5,scoring='roc_auc')\n",
    "grid_search.fit(rifX, rifY)\n",
    "print(\"Best hyperparameters:\", grid_search.best_params_)"
   ]
  },
  {
   "attachments": {},
   "cell_type": "markdown",
   "metadata": {},
   "source": [
    "# model1 (random forest)"
   ]
  },
  {
   "cell_type": "code",
   "execution_count": 64,
   "metadata": {},
   "outputs": [
    {
     "name": "stdout",
     "output_type": "stream",
     "text": [
      "Random forest\n",
      "--------------------\n",
      "accuracy  0.8972477064220183\n",
      "f1_score  0.9041095890410958\n",
      "auc  0.9005195974142868\n",
      "precision  0.9395017793594306\n",
      "sensitivity  0.8712871287128713\n",
      "specificity  0.12871287128712872\n"
     ]
    },
    {
     "data": {
      "image/png": "[encoded data removed]",
      "text/plain": [
       "<Figure size 432x288 with 2 Axes>"
      ]
     },
     "metadata": {
      "needs_background": "light"
     },
     "output_type": "display_data"
    }
   ],
   "source": [
    "rifModel1=RandomForestClassifier(n_estimators=50,max_depth=5)\n",
    "rifModel1.fit(rifX_train,rifY_train)\n",
    "rifPred=rifModel1.predict(rifX_test)\n",
    "print(\"Random forest\")\n",
    "print(\"--------------------\")\n",
    "print(\"accuracy \", accuracy_score(rifY_test,rifPred))\n",
    "print(\"f1_score \", f1_score(rifY_test,rifPred))\n",
    "print(\"auc \", roc_auc_score(rifY_test,rifPred))\n",
    "print(\"precision \",precision_score(rifY_test,rifPred))\n",
    "print(\"sensitivity \",recall_score(rifY_test,rifPred))\n",
    "print(\"specificity \",1-recall_score(rifY_test,rifPred))\n",
    "cm=(confusion_matrix(rifY_test,rifPred))\n",
    "sns.heatmap(cm,annot=True,cmap=\"Blues\",fmt=\"d\")\n",
    "plt.title(\"Confusion Matrix\")\n",
    "plt.xlabel(\"Predicted Label\")\n",
    "plt.ylabel(\"Actual Label\")\n",
    "plt.show()"
   ]
  },
  {
   "attachments": {},
   "cell_type": "markdown",
   "metadata": {},
   "source": [
    "# model 2 (svm)"
   ]
  },
  {
   "cell_type": "code",
   "execution_count": 65,
   "metadata": {},
   "outputs": [
    {
     "name": "stdout",
     "output_type": "stream",
     "text": [
      "SVM\n",
      "--------------------\n",
      "accuracy  0.9577981651376147\n",
      "f1_score  0.962233169129721\n",
      "auc  0.956638845702752\n",
      "precision  0.9575163398692811\n",
      "sensitivity  0.966996699669967\n",
      "specificity  0.03300330033003296\n"
     ]
    },
    {
     "data": {
      "image/png": "[encoded data removed]",
      "text/plain": [
       "<Figure size 432x288 with 2 Axes>"
      ]
     },
     "metadata": {
      "needs_background": "light"
     },
     "output_type": "display_data"
    }
   ],
   "source": [
    "rifModel2=svm.SVC(kernel=\"linear\",C= 0.1, gamma= 0.1)\n",
    "rifModel2.fit(rifX_train,rifY_train)\n",
    "rifPred=rifModel2.predict(rifX_test)\n",
    "print(\"SVM\")\n",
    "print(\"--------------------\")\n",
    "print(\"accuracy \", accuracy_score(rifY_test,rifPred))\n",
    "print(\"f1_score \", f1_score(rifY_test,rifPred))\n",
    "print(\"auc \", roc_auc_score(rifY_test,rifPred))\n",
    "print(\"precision \",precision_score(rifY_test,rifPred))\n",
    "print(\"sensitivity \",recall_score(rifY_test,rifPred))\n",
    "print(\"specificity \",1-recall_score(rifY_test,rifPred))\n",
    "cm=(confusion_matrix(rifY_test,rifPred))\n",
    "sns.heatmap(cm,annot=True,cmap=\"Blues\",fmt=\"d\")\n",
    "plt.title(\"Confusion Matrix\")\n",
    "plt.xlabel(\"Predicted Label\")\n",
    "plt.ylabel(\"Actual Label\")\n",
    "plt.show()"
   ]
  },
  {
   "attachments": {},
   "cell_type": "markdown",
   "metadata": {},
   "source": [
    "# model 3 (Logistic regression)"
   ]
  },
  {
   "cell_type": "code",
   "execution_count": 66,
   "metadata": {},
   "outputs": [
    {
     "name": "stdout",
     "output_type": "stream",
     "text": [
      "Logistic Regression\n",
      "--------------------\n",
      "accuracy  0.9596330275229358\n",
      "f1_score  0.9638157894736842\n",
      "auc  0.9587049614052314\n",
      "precision  0.9606557377049181\n",
      "sensitivity  0.966996699669967\n",
      "specificity  0.03300330033003296\n"
     ]
    },
    {
     "data": {
      "image/png": "[encoded data removed]",
      "text/plain": [
       "<Figure size 432x288 with 2 Axes>"
      ]
     },
     "metadata": {
      "needs_background": "light"
     },
     "output_type": "display_data"
    }
   ],
   "source": [
    "rifModel3=LogisticRegression()\n",
    "rifModel3.fit(rifX_train,rifY_train)\n",
    "rifPred=rifModel3.predict(rifX_test)\n",
    "print(\"Logistic Regression\")\n",
    "print(\"--------------------\")\n",
    "print(\"accuracy \", accuracy_score(rifY_test,rifPred))\n",
    "print(\"f1_score \", f1_score(rifY_test,rifPred))\n",
    "print(\"auc \", roc_auc_score(rifY_test,rifPred))\n",
    "print(\"precision \",precision_score(rifY_test,rifPred))\n",
    "print(\"sensitivity \",recall_score(rifY_test,rifPred))\n",
    "print(\"specificity \",1-recall_score(rifY_test,rifPred))\n",
    "cm=(confusion_matrix(rifY_test,rifPred))\n",
    "cm=(confusion_matrix(rifY_test,rifPred))\n",
    "sns.heatmap(cm,annot=True,cmap=\"Blues\",fmt=\"d\")\n",
    "plt.title(\"Confusion Matrix\")\n",
    "plt.xlabel(\"Predicted Label\")\n",
    "plt.ylabel(\"Actual Label\")\n",
    "plt.show()"
   ]
  },
  {
   "attachments": {},
   "cell_type": "markdown",
   "metadata": {},
   "source": [
    "# model4 (bernoulliNB)\n"
   ]
  },
  {
   "cell_type": "code",
   "execution_count": 67,
   "metadata": {},
   "outputs": [
    {
     "name": "stdout",
     "output_type": "stream",
     "text": [
      "BernoulliNB\n",
      "--------------------\n",
      "accuracy  0.8935779816513761\n",
      "f1_score  0.9010238907849829\n",
      "auc  0.8963873660093281\n",
      "precision  0.9328621908127208\n",
      "sensitivity  0.8712871287128713\n",
      "specificity  0.12871287128712872\n"
     ]
    },
    {
     "data": {
      "image/png": "[encoded data removed]",
      "text/plain": [
       "<Figure size 432x288 with 2 Axes>"
      ]
     },
     "metadata": {
      "needs_background": "light"
     },
     "output_type": "display_data"
    }
   ],
   "source": [
    "rifModel4=BernoulliNB(alpha=10)\n",
    "rifModel4.fit(rifX_train,rifY_train)\n",
    "rifPred=rifModel4.predict(rifX_test)\n",
    "print(\"BernoulliNB\")\n",
    "print(\"--------------------\")\n",
    "print(\"accuracy \", accuracy_score(rifY_test,rifPred))\n",
    "print(\"f1_score \", f1_score(rifY_test,rifPred))\n",
    "print(\"auc \", roc_auc_score(rifY_test,rifPred))\n",
    "print(\"precision \",precision_score(rifY_test,rifPred))\n",
    "print(\"sensitivity \",recall_score(rifY_test,rifPred))\n",
    "print(\"specificity \",1-recall_score(rifY_test,rifPred))\n",
    "cm=(confusion_matrix(rifY_test,rifPred))\n",
    "cm=(confusion_matrix(rifY_test,rifPred))\n",
    "sns.heatmap(cm,annot=True,cmap=\"Blues\",fmt=\"d\")\n",
    "plt.title(\"Confusion Matrix\")\n",
    "plt.xlabel(\"Predicted Label\")\n",
    "plt.ylabel(\"Actual Label\")\n",
    "plt.show()"
   ]
  },
  {
   "attachments": {},
   "cell_type": "markdown",
   "metadata": {},
   "source": [
    "# evaluating using cross_validation_score with folds=30"
   ]
  },
  {
   "cell_type": "code",
   "execution_count": 68,
   "metadata": {},
   "outputs": [],
   "source": [
    "from sklearn.model_selection import cross_val_score"
   ]
  },
  {
   "cell_type": "code",
   "execution_count": 69,
   "metadata": {},
   "outputs": [
    {
     "name": "stdout",
     "output_type": "stream",
     "text": [
      "Random Forest\n",
      "Mean f1_score  0.838124131444717\n",
      "Mean auc  0.9890611541774331\n"
     ]
    }
   ],
   "source": [
    "print(\"Random Forest\")\n",
    "aucScores=cross_val_score(rifModel1, rifX, rifY, cv=30, scoring=\"roc_auc\")\n",
    "f1Scores = cross_val_score(rifModel1, rifX, rifY, cv=30, scoring='f1')\n",
    "print(\"Mean f1_score \",f1Scores.mean())\n",
    "print(\"Mean auc \",aucScores.mean())"
   ]
  },
  {
   "cell_type": "code",
   "execution_count": 70,
   "metadata": {},
   "outputs": [
    {
     "name": "stdout",
     "output_type": "stream",
     "text": [
      "SVM\n",
      "Mean f1_score  0.950599159141003\n",
      "Mean auc  0.9907547325870179\n"
     ]
    }
   ],
   "source": [
    "print(\"SVM\")\n",
    "aucScores=cross_val_score(rifModel2, rifX, rifY, cv=30, scoring=\"roc_auc\")\n",
    "f1Scores = cross_val_score(rifModel2, rifX, rifY, cv=30, scoring='f1')\n",
    "print(\"Mean f1_score \",f1Scores.mean())\n",
    "print(\"Mean auc \",aucScores.mean())"
   ]
  },
  {
   "cell_type": "code",
   "execution_count": 74,
   "metadata": {},
   "outputs": [
    {
     "name": "stdout",
     "output_type": "stream",
     "text": [
      "Logistic Regression\n",
      "Mean f1_score  0.9366939164996181\n",
      "Mean auc  0.9902883099586866\n"
     ]
    }
   ],
   "source": [
    "print(\"Logistic Regression\")\n",
    "aucScores=cross_val_score(rifModel3, rifX, rifY, cv=20, scoring=\"roc_auc\")\n",
    "f1Scores = cross_val_score(rifModel3, rifX, rifY, cv=20, scoring='f1')\n",
    "print(\"Mean f1_score \",f1Scores.mean())\n",
    "print(\"Mean auc \",aucScores.mean())\n",
    "# print(aucScores)"
   ]
  },
  {
   "cell_type": "code",
   "execution_count": 72,
   "metadata": {},
   "outputs": [
    {
     "name": "stdout",
     "output_type": "stream",
     "text": [
      "BernoulliNB\n",
      "Mean f1_score  0.8369039315330876\n",
      "Mean auc  0.9596326288913498\n"
     ]
    }
   ],
   "source": [
    "print(\"BernoulliNB\")\n",
    "aucScores=cross_val_score(rifModel4, rifX, rifY, cv=30, scoring=\"roc_auc\")\n",
    "f1Scores = cross_val_score(rifModel4, rifX, rifY, cv=30, scoring='f1')\n",
    "print(\"Mean f1_score \",f1Scores.mean())\n",
    "print(\"Mean auc \",aucScores.mean())\n",
    "# print(aucScores)"
   ]
  }
 ],
 "metadata": {
  "kernelspec": {
   "display_name": "Python 3",
   "language": "python",
   "name": "python3"
  },
  "language_info": {
   "codemirror_mode": {
    "name": "ipython",
    "version": 3
   },
   "file_extension": ".py",
   "mimetype": "text/x-python",
   "name": "python",
   "nbconvert_exporter": "python",
   "pygments_lexer": "ipython3",
   "version": "3.9.0"
  },
  "orig_nbformat": 4
 },
 "nbformat": 4,
 "nbformat_minor": 2
}
